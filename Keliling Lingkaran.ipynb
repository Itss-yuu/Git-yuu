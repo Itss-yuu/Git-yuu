{
 "cells": [
  {
   "cell_type": "code",
   "execution_count": 1,
   "metadata": {},
   "outputs": [
    {
     "name": "stdout",
     "output_type": "stream",
     "text": [
      "Program Menghitung Keliling Lingkaran dan Volume Kubus\n",
      "Keliling lingkaran: 62.800000000000004\n",
      "Volume kubus: 1000.0\n"
     ]
    }
   ],
   "source": [
    "print(\"Program Menghitung Keliling Lingkaran dan Volume Kubus\")\n",
    "\n",
    "# Menghitung Keliling Lingkaran\n",
    "jari_jari = float(input(\"Masukkan jari-jari lingkaran: \"))\n",
    "keliling = 2 * 3.14 * jari_jari\n",
    "print(\"Keliling lingkaran:\", keliling)\n",
    "\n",
    "# Menghitung Volume Kubus\n",
    "sisi = float(input(\"Masukkan panjang sisi kubus: \"))\n",
    "volume = sisi * sisi * sisi\n",
    "print(\"Volume kubus:\", volume)\n"
   ]
  }
 ],
 "metadata": {
  "kernelspec": {
   "display_name": "Python 3",
   "language": "python",
   "name": "python3"
  },
  "language_info": {
   "codemirror_mode": {
    "name": "ipython",
    "version": 3
   },
   "file_extension": ".py",
   "mimetype": "text/x-python",
   "name": "python",
   "nbconvert_exporter": "python",
   "pygments_lexer": "ipython3",
   "version": "3.11.9"
  }
 },
 "nbformat": 4,
 "nbformat_minor": 2
}
