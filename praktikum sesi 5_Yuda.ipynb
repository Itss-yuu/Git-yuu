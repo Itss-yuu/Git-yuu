{
 "cells": [
  {
   "cell_type": "markdown",
   "metadata": {},
   "source": [
    "<details>\n",
    "    <summary><font color=\"red\">Click Here </font> Latihan 1</summary>\n",
    "\n",
    "```python\n",
    "#Code here\n",
    "domisili = input('Domilisi mana? :')\n",
    "print(f\"Domisili kamu {domisili}\")\n",
    "```\n",
    "\n",
    "</details>"
   ]
  },
  {
   "cell_type": "code",
   "execution_count": null,
   "metadata": {},
   "outputs": [],
   "source": [
    "#Code here\n",
    "domisili = input('Domilisi mana? :')\n",
    "print(f\"Domisili kamu {domisili}\")"
   ]
  },
  {
   "cell_type": "markdown",
   "metadata": {},
   "source": [
    "<details>\n",
    "    <summary><font color=\"red\">Click Here </font> Latihan 2</summary>\n",
    "\n",
    "```python\n",
    "domisili = input('Domilisi mana? :')\n",
    "print(f\"Domisili kamu {domisili}\")\n",
    "```\n",
    "</details>"
   ]
  },
  {
   "cell_type": "code",
   "execution_count": null,
   "metadata": {},
   "outputs": [],
   "source": [
    "#Code here\n",
    "domisili = input('Domilisi mana? :')\n",
    "print(f\"Domisili kamu {domisili}\")"
   ]
  }
 ],
 "metadata": {
  "kernelspec": {
   "display_name": "Python 3",
   "language": "python",
   "name": "python3"
  },
  "language_info": {
   "codemirror_mode": {
    "name": "ipython",
    "version": 3
   },
   "file_extension": ".py",
   "mimetype": "text/x-python",
   "name": "python",
   "nbconvert_exporter": "python",
   "pygments_lexer": "ipython3",
   "version": "3.11.9"
  }
 },
 "nbformat": 4,
 "nbformat_minor": 2
}
