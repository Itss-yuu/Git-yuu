{
 "cells": [
  {
   "cell_type": "code",
   "execution_count": 1,
   "metadata": {},
   "outputs": [
    {
     "name": "stdout",
     "output_type": "stream",
     "text": [
      "Nilai Huruf: B\n",
      "Predikat: Sangat Memuaskan\n"
     ]
    }
   ],
   "source": [
    "def tentukan_nilai_predikat(score):\n",
    "    if 90 <= score <= 100:\n",
    "        return 'A', 'Dengan Pujian'\n",
    "    elif 80 <= score <= 89:\n",
    "        return 'B', 'Sangat Memuaskan'\n",
    "    elif 70 <= score <= 79:\n",
    "        return 'C', 'Memuaskan'\n",
    "    elif 60 <= score <= 69:\n",
    "        return 'D', 'Tidak Memuaskan'\n",
    "    elif 0 <= score <= 59:\n",
    "        return 'E', 'Tidak LULUS'\n",
    "    else:\n",
    "        return None, None\n",
    "\n",
    "try:\n",
    "    skor = int(input(\"Masukkan skor (0-100): \"))\n",
    "    nilai, predikat = tentukan_nilai_predikat(skor)\n",
    "    \n",
    "    if nilai is not None:\n",
    "        print(f\"Nilai Huruf: {nilai}\")\n",
    "        print(f\"Predikat: {predikat}\")\n",
    "    else:\n",
    "        print(\"Skor tidak valid! Skor harus antara 0 sampai 100.\")\n",
    "except ValueError:\n",
    "    print(\"Input harus berupa angka bulat (integer).\")\n"
   ]
  }
 ],
 "metadata": {
  "kernelspec": {
   "display_name": "Python 3",
   "language": "python",
   "name": "python3"
  },
  "language_info": {
   "codemirror_mode": {
    "name": "ipython",
    "version": 3
   },
   "file_extension": ".py",
   "mimetype": "text/x-python",
   "name": "python",
   "nbconvert_exporter": "python",
   "pygments_lexer": "ipython3",
   "version": "3.11.9"
  }
 },
 "nbformat": 4,
 "nbformat_minor": 2
}
