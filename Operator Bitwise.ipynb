{
 "cells": [
  {
   "cell_type": "code",
   "execution_count": 1,
   "metadata": {},
   "outputs": [
    {
     "name": "stdout",
     "output_type": "stream",
     "text": [
      "x berisi angka 10 desimal atau 0b1010 biner\n",
      "y berisi angka 12 desimal atau 0b1100 biner\n",
      "\n",
      "\n",
      "x & y : 8\n",
      "x | y : 14\n",
      "x ^ y : 6\n",
      "~x : -11\n",
      "x << 1 : 20\n",
      "x >> 1 : 5\n"
     ]
    }
   ],
   "source": [
    "x = 10\n",
    "y = 12\n",
    "print('x berisi angka',x ,'desimal atau',bin(x),'biner')\n",
    "print('y berisi angka',y ,'desimal atau',bin(y),'biner')\n",
    "print('\\n')\n",
    "print('x & y :',x & y)\n",
    "print('x | y :',x | y)\n",
    "print('x ^ y :',x ^ y)\n",
    "print('~x :',~x)\n",
    "print('x << 1 :',x << 1)\n",
    "print('x >> 1 :',x >> 1)"
   ]
  }
 ],
 "metadata": {
  "kernelspec": {
   "display_name": "Python 3",
   "language": "python",
   "name": "python3"
  },
  "language_info": {
   "codemirror_mode": {
    "name": "ipython",
    "version": 3
   },
   "file_extension": ".py",
   "mimetype": "text/x-python",
   "name": "python",
   "nbconvert_exporter": "python",
   "pygments_lexer": "ipython3",
   "version": "3.11.9"
  }
 },
 "nbformat": 4,
 "nbformat_minor": 2
}
