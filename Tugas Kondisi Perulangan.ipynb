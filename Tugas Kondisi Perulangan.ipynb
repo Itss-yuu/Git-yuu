{
 "cells": [
  {
   "cell_type": "code",
   "execution_count": null,
   "metadata": {},
   "outputs": [
    {
     "name": "stdout",
     "output_type": "stream",
     "text": [
      "===== Program Kalkulator Sederhana =======\n",
      "Menu\n",
      "1. Hitung Luas Segitiga\n",
      "2. Hitung Luas Persegi Panjang\n",
      "3. Tentukan angka ganjil/genap\n",
      "4. Quit\n",
      "Luas segitiga adalah: 78.00\n",
      "\n",
      "===== Program Kalkulator Sederhana =======\n",
      "Menu\n",
      "1. Hitung Luas Segitiga\n",
      "2. Hitung Luas Persegi Panjang\n",
      "3. Tentukan angka ganjil/genap\n",
      "4. Quit\n",
      "Pilihan tidak valid, silakan coba lagi.\n",
      "\n",
      "===== Program Kalkulator Sederhana =======\n",
      "Menu\n",
      "1. Hitung Luas Segitiga\n",
      "2. Hitung Luas Persegi Panjang\n",
      "3. Tentukan angka ganjil/genap\n",
      "4. Quit\n",
      "Luas segitiga adalah: 4.00\n",
      "\n",
      "===== Program Kalkulator Sederhana =======\n",
      "Menu\n",
      "1. Hitung Luas Segitiga\n",
      "2. Hitung Luas Persegi Panjang\n",
      "3. Tentukan angka ganjil/genap\n",
      "4. Quit\n",
      "Luas persegi panjang adalah: 46.00\n",
      "\n",
      "===== Program Kalkulator Sederhana =======\n",
      "Menu\n",
      "1. Hitung Luas Segitiga\n",
      "2. Hitung Luas Persegi Panjang\n",
      "3. Tentukan angka ganjil/genap\n",
      "4. Quit\n"
     ]
    }
   ],
   "source": [
    "def hitung_luas_segitiga():\n",
    "    alas = float(input(\"Masukkan alas segitiga: \"))\n",
    "    tinggi = float(input(\"Masukkan tinggi segitiga: \"))\n",
    "    luas = 0.5 * alas * tinggi\n",
    "    print(f\"Luas segitiga adalah: {luas:.2f}\\n\")\n",
    "\n",
    "def hitung_luas_persegi_panjang():\n",
    "    panjang = float(input(\"Masukkan panjang: \"))\n",
    "    lebar = float(input(\"Masukkan lebar: \"))\n",
    "    luas = panjang * lebar\n",
    "    print(f\"Luas persegi panjang adalah: {luas:.2f}\\n\")\n",
    "\n",
    "def tentukan_ganjil_genap():\n",
    "    angka = int(input(\"Masukkan angka: \"))\n",
    "    if angka % 2 == 0:\n",
    "        print(f\"{angka} adalah angka genap\\n\")\n",
    "    else:\n",
    "        print(f\"{angka} adalah angka ganjil\\n\")\n",
    "\n",
    "while True:\n",
    "    print(\"===== Program Kalkulator Sederhana =======\")\n",
    "    print(\"Menu\")\n",
    "    print(\"1. Hitung Luas Segitiga\")\n",
    "    print(\"2. Hitung Luas Persegi Panjang\")\n",
    "    print(\"3. Tentukan angka ganjil/genap\")\n",
    "    print(\"4. Quit\")\n",
    "    \n",
    "    pilihan = input(\"Masukkan pilihan (1-4): \")\n",
    "\n",
    "    if pilihan == \"1\":\n",
    "        hitung_luas_segitiga()\n",
    "    elif pilihan == \"2\":\n",
    "        hitung_luas_persegi_panjang()\n",
    "    elif pilihan == \"3\":\n",
    "        tentukan_ganjil_genap()\n",
    "    elif pilihan == \"4\":\n",
    "        print(\"Terima kasih telah menggunakan program ini!\")\n",
    "        break\n",
    "    else:\n",
    "        print(\"Pilihan tidak valid, silakan coba lagi.\\n\")\n"
   ]
  }
 ],
 "metadata": {
  "kernelspec": {
   "display_name": "Python 3",
   "language": "python",
   "name": "python3"
  },
  "language_info": {
   "codemirror_mode": {
    "name": "ipython",
    "version": 3
   },
   "file_extension": ".py",
   "mimetype": "text/x-python",
   "name": "python",
   "nbconvert_exporter": "python",
   "pygments_lexer": "ipython3",
   "version": "3.11.9"
  }
 },
 "nbformat": 4,
 "nbformat_minor": 2
}
