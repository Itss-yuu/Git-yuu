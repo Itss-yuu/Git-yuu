{
 "cells": [
  {
   "cell_type": "code",
   "execution_count": 6,
   "metadata": {},
   "outputs": [
    {
     "name": "stdout",
     "output_type": "stream",
     "text": [
      "Nama_Mahasiswa : Yuda Prasetya Firmansyah\n",
      "Nomor_Telepon : 082321481805\n",
      "Nim : 20240040304\n"
     ]
    }
   ],
   "source": [
    "nama_mahasiswa = \"Yuda Prasetya Firmansyah\"\n",
    "nomor_telepon = \"082321481805\"\n",
    "nim = \"20240040304\"\n",
    "\n",
    "print (\"Nama_Mahasiswa :\", nama_mahasiswa)\n",
    "print (\"Nomor_Telepon :\", nomor_telepon)\n",
    "print (\"Nim :\", nim)"
   ]
  }
 ],
 "metadata": {
  "kernelspec": {
   "display_name": "Python 3",
   "language": "python",
   "name": "python3"
  },
  "language_info": {
   "codemirror_mode": {
    "name": "ipython",
    "version": 3
   },
   "file_extension": ".py",
   "mimetype": "text/x-python",
   "name": "python",
   "nbconvert_exporter": "python",
   "pygments_lexer": "ipython3",
   "version": "3.11.9"
  }
 },
 "nbformat": 4,
 "nbformat_minor": 2
}
